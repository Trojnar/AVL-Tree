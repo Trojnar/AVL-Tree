{
 "cells": [
  {
   "cell_type": "code",
   "execution_count": null,
   "metadata": {},
   "outputs": [],
   "source": []
  }
 ],
 "metadata": {
  "kernelspec": {
   "display_name": "Python 3.10.6 64-bit",
   "language": "python",
   "name": "python3"
  },
  "language_info": {
   "name": "python",
   "version": "3.10.6"
  },
  "orig_nbformat": 4,
  "vscode": {
   "interpreter": {
    "hash": "1b4d5d8c28046b098bf6c58817e24fa10cf26993ce19eb605460d6a4cf12ddf9"
   }
  }
 },
 "nbformat": 4,
 "nbformat_minor": 2
}
