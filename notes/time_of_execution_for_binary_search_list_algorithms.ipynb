{
 "cells": [
  {
   "cell_type": "code",
   "execution_count": 2,
   "metadata": {},
   "outputs": [],
   "source": [
    "# insert main folder to path to user tree module\n",
    "import sys\n",
    "sys.path.insert(0, '../')\n",
    "\n",
    "\n",
    "from tree import TreeMap\n",
    "from tree import TreeNode\n",
    "\n",
    "\n",
    "from typing import Optional"
   ]
  },
  {
   "cell_type": "markdown",
   "metadata": {},
   "source": [
    "# Comparison of the execution time of binary search algorithms for list of nodes taken from basic tree."
   ]
  },
  {
   "cell_type": "markdown",
   "metadata": {},
   "source": [
    "## Recursive binary search with slicing"
   ]
  },
  {
   "cell_type": "code",
   "execution_count": 3,
   "metadata": {},
   "outputs": [],
   "source": [
    "def find_first_occurrence(nodes: list[TreeNode], key, lo=0) -> Optional[tuple]:\n",
    "        \"\"\"\n",
    "        Search through sorted list of nodes and find first occurrence of the given key.\n",
    "\n",
    "        Parameters\n",
    "        ----------\n",
    "        nodes : list\n",
    "            List of sorted nodes to search in.\n",
    "        key\n",
    "            Key of wanted node\n",
    "\n",
    "        Returns\n",
    "        -------\n",
    "        tuple\n",
    "            (last_node, index of the first node)\n",
    "\n",
    "        \"\"\"\n",
    "\n",
    "\n",
    "        mid = len(nodes) // 2\n",
    "        if len(nodes) <= 1:\n",
    "            # It means list is empty or there is only one node in the list which is \n",
    "            # not of the key being searched for.\n",
    "            if len(nodes) == 1 and nodes[0].key == key:\n",
    "                return nodes[0], 0\n",
    "            return None\n",
    "        if len(nodes) >= 2 and nodes[mid].key == key and nodes[mid - 1].key == key:\n",
    "            return find_first_occurrence(nodes[:mid], key, lo)\n",
    "        elif nodes[mid].key == key:\n",
    "            return (nodes[mid], lo + mid)\n",
    "        elif nodes[mid].key > key:\n",
    "            return find_first_occurrence(nodes[:mid], key, lo)\n",
    "        elif nodes[mid].key < key:\n",
    "            return find_first_occurrence(nodes[mid:], key, lo + mid)\n",
    "\n",
    "        return None"
   ]
  },
  {
   "cell_type": "markdown",
   "metadata": {},
   "source": [
    "Execution of above function for the same array for 100 times."
   ]
  },
  {
   "cell_type": "code",
   "execution_count": 4,
   "metadata": {},
   "outputs": [
    {
     "name": "stdout",
     "output_type": "stream",
     "text": [
      "Tree:\n",
      "\t\t\t Ø\n",
      "\t\t 9\n",
      "\t\t\t 5\n",
      "\t 9\n",
      "\t\t Ø\n",
      " 1\n",
      "\t\t 6\n",
      "\t 7\n",
      "\t\t 2\n",
      "Sorted list of nodes: \n",
      " [TreeNode(1, None), TreeNode(2, None), TreeNode(5, None), TreeNode(6, None), TreeNode(7, None), TreeNode(9, None), TreeNode(9, None)]\n",
      "Function executed 100 times in mean time of:\n",
      "230 µs ± 35.1 µs per loop (mean ± std. dev. of 7 runs, 1,000 loops each)\n"
     ]
    }
   ],
   "source": [
    "tree_map_tuple =              (\n",
    "                ((None, 2, None), 7, (None, 6, None)),\n",
    "                1,\n",
    "                (None, 9, ((None, 5, None), 9, None)),\n",
    "            )\n",
    "tree_map = TreeMap.parse_tuple(tree_map_tuple)\n",
    "tree_list = tree_map.to_list()\n",
    "result = find_first_occurrence(tree_list, 9)\n",
    "assert result is not None, \"Node should be found.\"\n",
    "assert result[0] == TreeNode(9, None) and result[1] == 5, \"Result incorrect\"\n",
    "print(\"Tree:\")\n",
    "tree_map.display_keys()\n",
    "print(\"Sorted list of nodes: \\n\", tree_list)\n",
    "print(\"Function executed 100 times in mean time of:\")\n",
    "%timeit [find_first_occurrence(tree_list, 9) for i in range(100)]"
   ]
  },
  {
   "cell_type": "markdown",
   "metadata": {},
   "source": [
    "## Recursive binary search without slicing"
   ]
  },
  {
   "cell_type": "code",
   "execution_count": 5,
   "metadata": {},
   "outputs": [],
   "source": [
    "def find_first_occurrence_no_slicing(\n",
    "    nodes: list[TreeNode], key, hi=None, lo=0\n",
    ") -> Optional[tuple]:\n",
    "    \"\"\"\n",
    "    Search through sorted list of nodes and find first occurrence of the given key.\n",
    "\n",
    "    Parameters\n",
    "    ----------\n",
    "    nodes : list\n",
    "        List of sorted nodes to search in.\n",
    "    key\n",
    "        Key of wanted node\n",
    "\n",
    "    Returns\n",
    "    -------\n",
    "    tuple\n",
    "        (last_node, index of the first node)\n",
    "\n",
    "    \"\"\"\n",
    "    if hi == None:\n",
    "        hi = len(nodes) - 1\n",
    "        \n",
    "    mid = (hi - lo) // 2\n",
    "    if hi <= lo + 1:\n",
    "        # It means list is empty or there is only one node in the list which is \n",
    "        # not of the key being searched for.\n",
    "        if hi == lo and nodes[lo+mid].key == key:\n",
    "            return nodes[0], lo+mid\n",
    "        return None\n",
    "    elif (hi - lo) >= 1 and nodes[mid].key == key and nodes[mid - 1].key == key:\n",
    "        return find_first_occurrence_no_slicing(nodes, key, hi - mid, lo)\n",
    "    elif nodes[lo + mid].key == key:\n",
    "        return (nodes[lo + mid], lo + mid)\n",
    "    elif nodes[mid].key > key:\n",
    "        return find_first_occurrence_no_slicing(nodes, key, hi - mid, lo)\n",
    "    elif nodes[mid].key < key:\n",
    "        return find_first_occurrence_no_slicing(nodes, key, hi, lo + mid)\n",
    "\n",
    "    return None\n"
   ]
  },
  {
   "cell_type": "code",
   "execution_count": 6,
   "metadata": {},
   "outputs": [
    {
     "name": "stdout",
     "output_type": "stream",
     "text": [
      "(TreeNode(9, None), 5)\n",
      "Tree:\n",
      "\t\t\t Ø\n",
      "\t\t 9\n",
      "\t\t\t 5\n",
      "\t 9\n",
      "\t\t Ø\n",
      " 1\n",
      "\t\t 6\n",
      "\t 7\n",
      "\t\t 2\n",
      "Sorted list of nodes: \n",
      " [TreeNode(1, None), TreeNode(2, None), TreeNode(5, None), TreeNode(6, None), TreeNode(7, None), TreeNode(9, None), TreeNode(9, None)]\n",
      "Function executed 100 times in mean time of:\n",
      "320 µs ± 27.4 µs per loop (mean ± std. dev. of 7 runs, 1,000 loops each)\n"
     ]
    }
   ],
   "source": [
    "tree_map_tuple =              (\n",
    "                ((None, 2, None), 7, (None, 6, None)),\n",
    "                1,\n",
    "                (None, 9, ((None, 5, None), 9, None)),\n",
    "            )\n",
    "tree_map = TreeMap.parse_tuple(tree_map_tuple)\n",
    "tree_list = tree_map.to_list()\n",
    "result = find_first_occurrence_no_slicing(tree_list, 9)\n",
    "print(result)\n",
    "assert result is not None, \"Node should be found.\"\n",
    "assert result[0] == TreeNode(9, None) and result[1] == 5, \"Result incorrect\"\n",
    "print(\"Tree:\")\n",
    "tree_map.display_keys()\n",
    "print(\"Sorted list of nodes: \\n\", tree_list)\n",
    "print(\"Function executed 100 times in mean time of:\")\n",
    "%timeit [find_first_occurrence_no_slicing(tree_list, 9) for i in range(100)]"
   ]
  },
  {
   "cell_type": "markdown",
   "metadata": {},
   "source": [
    "## Non-recursive binary search"
   ]
  },
  {
   "cell_type": "code",
   "execution_count": 7,
   "metadata": {},
   "outputs": [],
   "source": [
    "def find_first_occurrence_no_recursion(nodes: list[TreeNode], key):\n",
    "        lo = 0\n",
    "        hi = len(nodes) - 1\n",
    "\n",
    "        while hi > lo + 1:\n",
    "            mid = (hi - lo) // 2\n",
    "            if nodes[lo + mid].key == key:\n",
    "                if nodes[lo + mid - 1].key == key:\n",
    "                    hi -= mid\n",
    "                else:\n",
    "                    lo = lo + mid\n",
    "                    hi = lo\n",
    "                    break\n",
    "            elif nodes[lo + mid].key > key:\n",
    "                hi -= mid\n",
    "            elif nodes[lo + mid].key < key:\n",
    "                lo += mid\n",
    "\n",
    "        if hi == lo and nodes[lo].key == key:\n",
    "            return nodes[lo], lo\n",
    "        else:\n",
    "            return None"
   ]
  },
  {
   "cell_type": "code",
   "execution_count": 8,
   "metadata": {},
   "outputs": [
    {
     "name": "stdout",
     "output_type": "stream",
     "text": [
      "(TreeNode(9, None), 5)\n",
      "Tree:\n",
      "\t\t\t Ø\n",
      "\t\t 9\n",
      "\t\t\t 5\n",
      "\t 9\n",
      "\t\t Ø\n",
      " 1\n",
      "\t\t 6\n",
      "\t 7\n",
      "\t\t 2\n",
      "Sorted list of nodes: \n",
      " [TreeNode(1, None), TreeNode(2, None), TreeNode(5, None), TreeNode(6, None), TreeNode(7, None), TreeNode(9, None), TreeNode(9, None)]\n",
      "Function executed 100 times in mean time of:\n",
      "262 µs ± 17.7 µs per loop (mean ± std. dev. of 7 runs, 1,000 loops each)\n"
     ]
    }
   ],
   "source": [
    "tree_map_tuple =              (\n",
    "                ((None, 2, None), 7, (None, 6, None)),\n",
    "                1,\n",
    "                (None, 9, ((None, 5, None), 9, None)),\n",
    "            )\n",
    "tree_map = TreeMap.parse_tuple(tree_map_tuple)\n",
    "tree_list = tree_map.to_list()\n",
    "result = find_first_occurrence_no_recursion(tree_list, 9)\n",
    "print(result)\n",
    "assert result is not None, \"Node should be found.\"\n",
    "assert result[0] == TreeNode(9, None) and result[1] == 5, \"Result incorrect\"\n",
    "print(\"Tree:\")\n",
    "tree_map.display_keys()\n",
    "print(\"Sorted list of nodes: \\n\", tree_list)\n",
    "print(\"Function executed 100 times in mean time of:\")\n",
    "%timeit [find_first_occurrence_no_recursion(tree_list, 9) for i in range(100)]"
   ]
  },
  {
   "cell_type": "markdown",
   "metadata": {},
   "source": [
    "## No recursion with slicing"
   ]
  },
  {
   "cell_type": "code",
   "execution_count": 9,
   "metadata": {},
   "outputs": [],
   "source": [
    "def find_first_occurrence_no_recursion_with_slicing(nodes: list[TreeNode], key):\n",
    "    if len(nodes) == 1 and nodes[0].key == key:\n",
    "        return (nodes[0], 0)\n",
    "\n",
    "    node, index = (None, None)\n",
    "    lo = 0\n",
    "    while len(nodes) > 1:\n",
    "        mid = len(nodes) // 2\n",
    "        if nodes[mid].key == key:\n",
    "            if len(nodes) >= 2 and nodes[mid - 1].key == key:\n",
    "                nodes = nodes[:mid]\n",
    "            else:\n",
    "                node = nodes[mid]\n",
    "                index = lo+mid\n",
    "                break\n",
    "        elif nodes[mid].key > key:\n",
    "           nodes = nodes[:mid]\n",
    "        elif nodes[mid].key < key:\n",
    "           nodes = nodes[mid:]\n",
    "           lo += mid\n",
    "     \n",
    "    if index == None:\n",
    "        return None\n",
    "\n",
    "    return (node, index)\n",
    "    "
   ]
  },
  {
   "cell_type": "code",
   "execution_count": 10,
   "metadata": {},
   "outputs": [
    {
     "name": "stdout",
     "output_type": "stream",
     "text": [
      "(TreeNode(9, None), 5)\n",
      "Tree:\n",
      "\t\t\t Ø\n",
      "\t\t 9\n",
      "\t\t\t 5\n",
      "\t 9\n",
      "\t\t Ø\n",
      " 1\n",
      "\t\t 6\n",
      "\t 7\n",
      "\t\t 2\n",
      "Sorted list of nodes: \n",
      " [TreeNode(1, None), TreeNode(2, None), TreeNode(5, None), TreeNode(6, None), TreeNode(7, None), TreeNode(9, None), TreeNode(9, None)]\n",
      "Function executed 100 times in mean time of:\n",
      "176 µs ± 5.03 µs per loop (mean ± std. dev. of 7 runs, 10,000 loops each)\n"
     ]
    }
   ],
   "source": [
    "tree_map_tuple =              (\n",
    "                ((None, 2, None), 7, (None, 6, None)),\n",
    "                1,\n",
    "                (None, 9, ((None, 5, None), 9, None)),\n",
    "            )\n",
    "tree_map = TreeMap.parse_tuple(tree_map_tuple)\n",
    "tree_list = tree_map.to_list()\n",
    "result = find_first_occurrence_no_recursion_with_slicing(tree_list, 9)\n",
    "print(result)\n",
    "assert result is not None, \"Node should be found.\"\n",
    "assert result[0] == TreeNode(9, None) and result[1] == 5, \"Result incorrect\"\n",
    "print(\"Tree:\")\n",
    "tree_map.display_keys()\n",
    "print(\"Sorted list of nodes: \\n\", tree_list)\n",
    "print(\"Function executed 100 times in mean time of:\")\n",
    "%timeit [find_first_occurrence_no_recursion_with_slicing(tree_list, 9) for i in range(100)]"
   ]
  },
  {
   "cell_type": "markdown",
   "metadata": {},
   "source": [
    "## Searching using built-in python method index()"
   ]
  },
  {
   "cell_type": "code",
   "execution_count": 11,
   "metadata": {},
   "outputs": [],
   "source": [
    "def search_by_key(tree_list, key):\n",
    "    key_list = list(map(lambda x: x.key, tree_list))\n",
    "    try:\n",
    "        index = key_list.index(key)\n",
    "    except ValueError:\n",
    "        return None\n",
    "\n",
    "    return tree_list[index], index"
   ]
  },
  {
   "cell_type": "code",
   "execution_count": 12,
   "metadata": {},
   "outputs": [],
   "source": [
    "def search_by_node(tree_list, node):\n",
    "    index = tree_list.index(node)\n",
    "    if index >= 0:\n",
    "        return tree_list[index], index\n",
    "    else:\n",
    "        return None"
   ]
  },
  {
   "cell_type": "code",
   "execution_count": 13,
   "metadata": {},
   "outputs": [
    {
     "name": "stdout",
     "output_type": "stream",
     "text": [
      "(TreeNode(9, None), 5)\n",
      "(TreeNode(9, None), 5)\n",
      "Sorted list of nodes: \n",
      " [TreeNode(1, None), TreeNode(2, None), TreeNode(5, None), TreeNode(6, None), TreeNode(7, None), TreeNode(9, None), TreeNode(9, None)]\n",
      "Function executed 100 times in mean time of:\n",
      "249 µs ± 37.1 µs per loop (mean ± std. dev. of 7 runs, 1,000 loops each)\n",
      "379 µs ± 19.5 µs per loop (mean ± std. dev. of 7 runs, 1,000 loops each)\n"
     ]
    }
   ],
   "source": [
    "\n",
    "\n",
    "tree_map_tuple =              (\n",
    "                ((None, 2, None), 7, (None, 6, None)),\n",
    "                1,\n",
    "                (None, 9, ((None, 5, None), 9, None)),\n",
    "            )\n",
    "tree_map = TreeMap.parse_tuple(tree_map_tuple)\n",
    "tree_list = tree_map.to_list()\n",
    "result_by_key = search_by_key(tree_list, 9)\n",
    "result_by_node = search_by_node(tree_list, TreeNode(9, None))\n",
    "print(result_by_key)\n",
    "print(result_by_node)\n",
    "print(\"Sorted list of nodes: \\n\", tree_list)\n",
    "print(\"Function executed 100 times in mean time of:\")\n",
    "%timeit [search_by_key(tree_list, 9) for i in range(100)]\n",
    "%timeit [search_by_node(tree_list, TreeNode(9, None)) for i in range(100)]\n"
   ]
  },
  {
   "cell_type": "markdown",
   "metadata": {},
   "source": [
    "## Testing"
   ]
  },
  {
   "cell_type": "code",
   "execution_count": 14,
   "metadata": {},
   "outputs": [
    {
     "name": "stdout",
     "output_type": "stream",
     "text": [
      "\n",
      "\n",
      "#### Time test of every algorithm for the same big random list. ####\n",
      "Time for recursive algorithm with slicing:\n",
      "1.65 ms ± 119 µs per loop (mean ± std. dev. of 7 runs, 1,000 loops each)\n",
      "Time for recursive algorithm without slicing:\n",
      "430 µs ± 28.1 µs per loop (mean ± std. dev. of 7 runs, 1,000 loops each)\n",
      "Time for algorithm without recursion and slicing:\n",
      "776 µs ± 36.8 µs per loop (mean ± std. dev. of 7 runs, 1,000 loops each)\n",
      "Time for algorithm without recursion and with slicing:\n",
      "1.3 ms ± 52.5 µs per loop (mean ± std. dev. of 7 runs, 1,000 loops each)\n",
      "Time for algorithm with built-in index method:\n",
      "25.6 ms ± 1.97 ms per loop (mean ± std. dev. of 7 runs, 10 loops each)\n",
      "Time for algorithm with built-in index method by node:\n"
     ]
    },
    {
     "name": "stderr",
     "output_type": "stream",
     "text": [
      "."
     ]
    },
    {
     "name": "stdout",
     "output_type": "stream",
     "text": [
      "72.3 ms ± 3.5 ms per loop (mean ± std. dev. of 7 runs, 10 loops each)\n",
      "\n",
      "Time for algorithm without recursion and slicing:\n",
      "first:  (TreeNode(5, None), 2) last:  (TreeNode(5, None), 2)\n",
      "Function repeating 100 times for the following cases:\n",
      "## Keys are repeating ## \n",
      "[TreeNode(1, None), TreeNode(2, None), TreeNode(5, None), TreeNode(6, None), TreeNode(7, None), TreeNode(9, 5), TreeNode(9, None)]\n",
      "For key = 9:\n",
      "255 µs ± 8.66 µs per loop (mean ± std. dev. of 7 runs, 1,000 loops each)\n",
      "For key = 5:\n",
      "265 µs ± 44.9 µs per loop (mean ± std. dev. of 7 runs, 1,000 loops each)\n",
      "[TreeNode(1, 1), TreeNode(1, 1), TreeNode(2, 5), TreeNode(2, 2), TreeNode(2, 13), TreeNode(2, 6), TreeNode(3, 7), TreeNode(3, 3), TreeNode(3, 8), TreeNode(3, 11), TreeNode(4, 12), TreeNode(5, 9), TreeNode(5, 4), TreeNode(5, 10)]\n",
      "For key = 5:\n",
      "264 µs ± 19 µs per loop (mean ± std. dev. of 7 runs, 1,000 loops each)\n",
      "For key = 3:\n",
      "109 µs ± 5.16 µs per loop (mean ± std. dev. of 7 runs, 10,000 loops each)\n",
      "For key = 2:\n",
      "223 µs ± 8.36 µs per loop (mean ± std. dev. of 7 runs, 1,000 loops each)\n",
      "## only root tree map ##\n",
      "For key = 2:  [TreeNode(1, 1)]\n",
      "58.9 µs ± 3.82 µs per loop (mean ± std. dev. of 7 runs, 10,000 loops each)\n",
      "## Wanted node at the end of the tree ##\n",
      "For key = 5:  [TreeNode(1, None), TreeNode(2, None), TreeNode(5, None), TreeNode(6, None), TreeNode(7, None), TreeNode(9, 5), TreeNode(9, None)]\n",
      "272 µs ± 32.1 µs per loop (mean ± std. dev. of 7 runs, 1,000 loops each)\n",
      "## List is blank ##\n"
     ]
    },
    {
     "name": "stderr",
     "output_type": "stream",
     "text": [
      "."
     ]
    },
    {
     "name": "stdout",
     "output_type": "stream",
     "text": [
      "35.3 µs ± 4.97 µs per loop (mean ± std. dev. of 7 runs, 10,000 loops each)\n",
      "first:  (TreeNode(5, None), 2) last:  (TreeNode(5, None), 2)\n",
      "Time for algorithm without recursion and with slicing:\n",
      "Function repeating 100 times for the following cases:\n",
      "## Keys are repeating ## \n",
      "[TreeNode(1, None), TreeNode(2, None), TreeNode(5, None), TreeNode(6, None), TreeNode(7, None), TreeNode(9, 5), TreeNode(9, None)]\n",
      "For key = 9:\n",
      "202 µs ± 14.5 µs per loop (mean ± std. dev. of 7 runs, 10,000 loops each)\n",
      "For key = 5:\n",
      "236 µs ± 14.4 µs per loop (mean ± std. dev. of 7 runs, 1,000 loops each)\n",
      "[TreeNode(1, 1), TreeNode(1, 1), TreeNode(2, 5), TreeNode(2, 2), TreeNode(2, 13), TreeNode(2, 6), TreeNode(3, 7), TreeNode(3, 3), TreeNode(3, 8), TreeNode(3, 11), TreeNode(4, 12), TreeNode(5, 9), TreeNode(5, 4), TreeNode(5, 10)]\n",
      "For key = 5:\n",
      "323 µs ± 8.27 µs per loop (mean ± std. dev. of 7 runs, 1,000 loops each)\n",
      "For key = 3:\n",
      "323 µs ± 14.4 µs per loop (mean ± std. dev. of 7 runs, 1,000 loops each)\n",
      "For key = 2:\n",
      "308 µs ± 11.4 µs per loop (mean ± std. dev. of 7 runs, 1,000 loops each)\n",
      "## only root tree map ##\n",
      "For key = 2:  [TreeNode(1, 1)]\n",
      "48 µs ± 2.39 µs per loop (mean ± std. dev. of 7 runs, 10,000 loops each)\n",
      "## Wanted node at the end of the tree ##\n",
      "For key = 5:  [TreeNode(1, None), TreeNode(2, None), TreeNode(5, None), TreeNode(6, None), TreeNode(7, None), TreeNode(9, 5), TreeNode(9, None)]\n",
      "261 µs ± 32.4 µs per loop (mean ± std. dev. of 7 runs, 1,000 loops each)\n",
      "## List is blank ##\n"
     ]
    },
    {
     "name": "stderr",
     "output_type": "stream",
     "text": [
      "."
     ]
    },
    {
     "name": "stdout",
     "output_type": "stream",
     "text": [
      "33.9 µs ± 1.88 µs per loop (mean ± std. dev. of 7 runs, 10,000 loops each)\n",
      "first:  (TreeNode(5, None), 2) last:  (TreeNode(5, None), 2)\n",
      "Time for recursive algorithm with slicing:\n",
      "Function repeating 100 times for the following cases:\n",
      "## Keys are repeating ## \n",
      "[TreeNode(1, None), TreeNode(2, None), TreeNode(5, None), TreeNode(6, None), TreeNode(7, None), TreeNode(9, 5), TreeNode(9, None)]\n",
      "For key = 9:\n",
      "247 µs ± 50.4 µs per loop (mean ± std. dev. of 7 runs, 1,000 loops each)\n",
      "For key = 5:\n",
      "311 µs ± 15.7 µs per loop (mean ± std. dev. of 7 runs, 1,000 loops each)\n",
      "[TreeNode(1, 1), TreeNode(1, 1), TreeNode(2, 5), TreeNode(2, 2), TreeNode(2, 13), TreeNode(2, 6), TreeNode(3, 7), TreeNode(3, 3), TreeNode(3, 8), TreeNode(3, 11), TreeNode(4, 12), TreeNode(5, 9), TreeNode(5, 4), TreeNode(5, 10)]\n",
      "For key = 5:\n",
      "427 µs ± 25.8 µs per loop (mean ± std. dev. of 7 runs, 1,000 loops each)\n",
      "For key = 3:\n",
      "445 µs ± 30.7 µs per loop (mean ± std. dev. of 7 runs, 1,000 loops each)\n",
      "For key = 2:\n",
      "391 µs ± 12.2 µs per loop (mean ± std. dev. of 7 runs, 1,000 loops each)\n",
      "## only root tree map ##\n",
      "For key = 2:  [TreeNode(1, 1)]\n",
      "57.6 µs ± 3.95 µs per loop (mean ± std. dev. of 7 runs, 10,000 loops each)\n",
      "## Wanted node at the end of the tree ##\n",
      "For key = 5:  [TreeNode(1, None), TreeNode(2, None), TreeNode(5, None), TreeNode(6, None), TreeNode(7, None), TreeNode(9, 5), TreeNode(9, None)]\n",
      "299 µs ± 20.7 µs per loop (mean ± std. dev. of 7 runs, 1,000 loops each)\n",
      "## List is blank ##\n"
     ]
    },
    {
     "name": "stderr",
     "output_type": "stream",
     "text": [
      "."
     ]
    },
    {
     "name": "stdout",
     "output_type": "stream",
     "text": [
      "35.1 µs ± 2.41 µs per loop (mean ± std. dev. of 7 runs, 10,000 loops each)\n",
      "first:  (TreeNode(5, None), 2) last:  (TreeNode(5, None), 2)\n",
      "Time for recursive algorithm without slicing:\n",
      "Function repeating 100 times for the following cases:\n",
      "## Keys are repeating ## \n",
      "[TreeNode(1, None), TreeNode(2, None), TreeNode(5, None), TreeNode(6, None), TreeNode(7, None), TreeNode(9, 5), TreeNode(9, None)]\n",
      "For key = 9:\n",
      "301 µs ± 20.2 µs per loop (mean ± std. dev. of 7 runs, 1,000 loops each)\n",
      "For key = 5:\n",
      "273 µs ± 16.7 µs per loop (mean ± std. dev. of 7 runs, 1,000 loops each)\n",
      "[TreeNode(1, 1), TreeNode(1, 1), TreeNode(2, 5), TreeNode(2, 2), TreeNode(2, 13), TreeNode(2, 6), TreeNode(3, 7), TreeNode(3, 3), TreeNode(3, 8), TreeNode(3, 11), TreeNode(4, 12), TreeNode(5, 9), TreeNode(5, 4), TreeNode(5, 10)]\n",
      "For key = 5:\n",
      "313 µs ± 18.3 µs per loop (mean ± std. dev. of 7 runs, 1,000 loops each)\n",
      "For key = 3:\n",
      "108 µs ± 4.77 µs per loop (mean ± std. dev. of 7 runs, 10,000 loops each)\n",
      "For key = 2:\n",
      "283 µs ± 25.7 µs per loop (mean ± std. dev. of 7 runs, 1,000 loops each)\n",
      "## only root tree map ##\n",
      "For key = 2:  [TreeNode(1, 1)]\n",
      "75.2 µs ± 11.9 µs per loop (mean ± std. dev. of 7 runs, 10,000 loops each)\n",
      "## Wanted node at the end of the tree ##\n",
      "For key = 5:  [TreeNode(1, None), TreeNode(2, None), TreeNode(5, None), TreeNode(6, None), TreeNode(7, None), TreeNode(9, 5), TreeNode(9, None)]\n",
      "302 µs ± 30.9 µs per loop (mean ± std. dev. of 7 runs, 1,000 loops each)\n",
      "## List is blank ##\n"
     ]
    },
    {
     "name": "stderr",
     "output_type": "stream",
     "text": [
      "."
     ]
    },
    {
     "name": "stdout",
     "output_type": "stream",
     "text": [
      "46.9 µs ± 4.34 µs per loop (mean ± std. dev. of 7 runs, 10,000 loops each)\n",
      "first:  (TreeNode(5, None), 2) last:  (TreeNode(5, None), 2)\n",
      "Function repeating 100 times for the following cases:\n",
      "## Keys are repeating ## \n",
      "[TreeNode(1, None), TreeNode(2, None), TreeNode(5, None), TreeNode(6, None), TreeNode(7, None), TreeNode(9, 5), TreeNode(9, None)]\n",
      "For key = 9:\n",
      "294 µs ± 70.8 µs per loop (mean ± std. dev. of 7 runs, 1,000 loops each)\n",
      "For key = 5:\n",
      "234 µs ± 16.9 µs per loop (mean ± std. dev. of 7 runs, 1,000 loops each)\n",
      "[TreeNode(1, 1), TreeNode(1, 1), TreeNode(2, 5), TreeNode(2, 2), TreeNode(2, 13), TreeNode(2, 6), TreeNode(3, 7), TreeNode(3, 3), TreeNode(3, 8), TreeNode(3, 11), TreeNode(4, 12), TreeNode(5, 9), TreeNode(5, 4), TreeNode(5, 10)]\n",
      "For key = 5:\n",
      "512 µs ± 119 µs per loop (mean ± std. dev. of 7 runs, 1,000 loops each)\n",
      "For key = 3:\n",
      "379 µs ± 28.9 µs per loop (mean ± std. dev. of 7 runs, 1,000 loops each)\n",
      "For key = 2:\n",
      "368 µs ± 24.5 µs per loop (mean ± std. dev. of 7 runs, 1,000 loops each)\n",
      "## only root tree map ##\n",
      "For key = 2:  [TreeNode(1, 1)]\n",
      "95.9 µs ± 12.9 µs per loop (mean ± std. dev. of 7 runs, 10,000 loops each)\n",
      "## Wanted node at the end of the tree ##\n",
      "For key = 5:  [TreeNode(1, None), TreeNode(2, None), TreeNode(5, None), TreeNode(6, None), TreeNode(7, None), TreeNode(9, 5), TreeNode(9, None)]\n",
      "206 µs ± 10 µs per loop (mean ± std. dev. of 7 runs, 1,000 loops each)\n",
      "## List is blank ##\n"
     ]
    },
    {
     "name": "stderr",
     "output_type": "stream",
     "text": [
      ".\n",
      "----------------------------------------------------------------------\n",
      "Ran 6 tests in 192.931s\n",
      "\n",
      "OK\n"
     ]
    },
    {
     "name": "stdout",
     "output_type": "stream",
     "text": [
      "128 µs ± 6.9 µs per loop (mean ± std. dev. of 7 runs, 10,000 loops each)\n"
     ]
    }
   ],
   "source": [
    "# type: ignore\n",
    "import unittest\n",
    "import random\n",
    "\n",
    "class BinarySearchTest(unittest.TestCase):\n",
    "\n",
    "    def test_binary_search_with_recursion(self):\n",
    "        self.__tests(find_first_occurrence)\n",
    "        print(\"Time for recursive algorithm with slicing:\")\n",
    "        BinarySearchTest.__test_time(find_first_occurrence)\n",
    "\n",
    "    def test_recursive_binary_search_without_slicing(self):\n",
    "        self.__tests(find_first_occurrence_no_slicing)\n",
    "        print(\"Time for recursive algorithm without slicing:\")\n",
    "        BinarySearchTest.__test_time(find_first_occurrence_no_slicing)\n",
    "    \n",
    "    def test_binary_search_no_recursion(self):\n",
    "        print(\"Time for algorithm without recursion and slicing:\")\n",
    "        self.__tests(find_first_occurrence_no_recursion)\n",
    "        BinarySearchTest.__test_time(find_first_occurrence_no_recursion)\n",
    "\n",
    "    def test_binary_search_no_recursion_with_slicing(self):\n",
    "        self.__tests(find_first_occurrence_no_recursion_with_slicing)\n",
    "        print(\"Time for algorithm without recursion and with slicing:\")\n",
    "        BinarySearchTest.__test_time(find_first_occurrence_no_recursion_with_slicing)\n",
    "\n",
    "    def test_search(self):\n",
    "        self.__tests(search_by_key)\n",
    "        BinarySearchTest.__test_time(search_by_key)\n",
    "\n",
    "    def test_big_random_list(self):\n",
    "        print()\n",
    "        print()\n",
    "        print(\"#### Time test of every algorithm for the same big random list. ####\")\n",
    "        list, choice = self.__generate_list(1234)\n",
    "        print(\"Time for recursive algorithm with slicing:\")\n",
    "        self.__test_time_big_list(list, choice.key, find_first_occurrence)\n",
    "        print(\"Time for recursive algorithm without slicing:\")\n",
    "        self.__test_time_big_list(list, choice.key, find_first_occurrence_no_slicing)\n",
    "        print(\"Time for algorithm without recursion and slicing:\")\n",
    "        self.__test_time_big_list(list, choice.key, find_first_occurrence_no_recursion)\n",
    "        print(\"Time for algorithm without recursion and with slicing:\")\n",
    "        self.__test_time_big_list(list, choice.key, find_first_occurrence_no_recursion_with_slicing)\n",
    "        print(\"Time for algorithm with built-in index method:\")\n",
    "        self.__test_time_big_list(list, choice.key, search_by_key)\n",
    "        print(\"Time for algorithm with built-in index method by node:\")\n",
    "        self.__test_time_big_list(list, choice, search_by_key)\n",
    "        print()\n",
    "\n",
    "    def __tests(self, function):\n",
    "        global tree_map\n",
    "        tree_l = tree_map.to_list()\n",
    "        self.assertEqual(function(tree_l, 5)[0], TreeNode(5, None))\n",
    "\n",
    "        # keys are repeating\n",
    "        tree_map.root.right.value = 5\n",
    "        self.assertEqual(\n",
    "            function(tree_l, 9)[0], TreeNode(9, 5)\n",
    "        )\n",
    "        self.assertIs(\n",
    "            function(tree_l, 5)[0],\n",
    "            tree_map.root.right.right.left,\n",
    "        )\n",
    "        tree_repeating = TreeMap(TreeNode(1, 1))\n",
    "        tree_repeating.parse_list(\n",
    "            [\n",
    "                TreeNode(1, 1),\n",
    "                TreeNode(2, 2),\n",
    "                TreeNode(3, 3),\n",
    "                TreeNode(5, 4),\n",
    "                TreeNode(2, 5),\n",
    "                TreeNode(2, 6),\n",
    "                TreeNode(3, 7),\n",
    "                TreeNode(3, 8),\n",
    "                TreeNode(5, 9),\n",
    "                TreeNode(5, 10),\n",
    "                TreeNode(3, 11),\n",
    "                TreeNode(4, 12),\n",
    "                TreeNode(2, 13),\n",
    "            ]\n",
    "        )\n",
    "        tree_l_re = tree_repeating.to_list()\n",
    "        self.assertEqual(\n",
    "            function(tree_l_re, 5)[0],\n",
    "            TreeNode(5, 9),\n",
    "        )\n",
    "        self.assertEqual(\n",
    "            function(tree_l_re, 3)[0],\n",
    "            TreeNode(3, 7),\n",
    "        )\n",
    "        self.assertEqual(\n",
    "            function(tree_l_re, 2)[0],\n",
    "            TreeNode(2, 5),\n",
    "        )\n",
    "        \n",
    "        # only root tree map\n",
    "        tree = TreeMap(TreeNode(1, 1))\n",
    "        tree_o_r = tree.to_list()\n",
    "        self.assertEqual(function(tree_o_r, 1)[0], TreeNode(1, 1))\n",
    "\n",
    "        # key not found\n",
    "        self.assertEqual(function(tree_l, 15), None)\n",
    "\n",
    "        # Wanted node at the end of the tree\n",
    "        self.assertEqual(function(tree_l, 5)[0], TreeNode(5, None))\n",
    "        self.assertIs(\n",
    "            tree_map.find(5)[0],\n",
    "            tree_map.root.right.right.left,\n",
    "        )\n",
    "\n",
    "        # Nodes is blank\n",
    "        self.assertEqual(function([], 1), None)\n",
    "\n",
    "    @staticmethod\n",
    "    def __test_time(function):\n",
    "\n",
    "        global tree_map\n",
    "        tree_l = tree_map.to_list()\n",
    "        times = 100\n",
    "        print(f\"Function repeating {times} times for the following cases:\")\n",
    "\n",
    "        print(\"## Keys are repeating ## \")\n",
    "        print(tree_l)\n",
    "        print(\"For key = 9:\")\n",
    "        %timeit [function(tree_l, 9) for i in range(100)]\n",
    "        print(\"For key = 5:\")\n",
    "        %timeit [function(tree_l, 5) for i in range(100)]\n",
    "\n",
    "\n",
    "        tree_repeating = TreeMap(TreeNode(1, 1))\n",
    "        tree_repeating.parse_list(\n",
    "            [\n",
    "                TreeNode(1, 1),\n",
    "                TreeNode(2, 2),\n",
    "                TreeNode(3, 3),\n",
    "                TreeNode(5, 4),\n",
    "                TreeNode(2, 5),\n",
    "                TreeNode(2, 6),\n",
    "                TreeNode(3, 7),\n",
    "                TreeNode(3, 8),\n",
    "                TreeNode(5, 9),\n",
    "                TreeNode(5, 10),\n",
    "                TreeNode(3, 11),\n",
    "                TreeNode(4, 12),\n",
    "                TreeNode(2, 13),\n",
    "            ]\n",
    "        )\n",
    "        tree_l_re = tree_repeating.to_list()\n",
    "        print(tree_l_re)\n",
    "        print(\"For key = 5:\")\n",
    "        %timeit [ function(tree_l_re, 5) for i in range(100)]\n",
    "        print(\"For key = 3:\")\n",
    "        %timeit [ function(tree_l_re, 3) for i in range(100)]\n",
    "        print(\"For key = 2:\")\n",
    "        %timeit [ function(tree_l_re, 2) for i in range(100)]\n",
    "\n",
    "        \n",
    "        print(\"## only root tree map ##\")\n",
    "        tree = TreeMap(TreeNode(1, 1))\n",
    "        tree_o_r = tree.to_list()\n",
    "        print(\"For key = 2: \", tree_o_r)\n",
    "        %timeit [function(tree_o_r, 1) for i in range(100)]\n",
    "\n",
    "        print(\"## Wanted node at the end of the tree ##\")\n",
    "        print(\"For key = 5: \", tree_l)\n",
    "        %timeit [function(tree_l, 5) for i in range(100)]\n",
    "\n",
    "        print(\"## List is blank ##\")\n",
    "        %timeit [function([], 1) for i in range(100)]\n",
    "\n",
    "    @staticmethod\n",
    "    def __test_time_big_list(l, choice, function):\n",
    "        %timeit [function(l, choice) for i in range(100)]\n",
    "\n",
    "    @staticmethod\n",
    "    def __generate_list(seed):\n",
    "        l = list()\n",
    "        random.seed(seed)\n",
    "        for _ in range(1000):\n",
    "            n = TreeNode(random.randint(1, 50), None)\n",
    "            l.append(n)\n",
    "        \n",
    "        l.sort(key = lambda x: x.key)\n",
    "\n",
    "        #print(f\"List generated nodes with seed {seed}: \")\n",
    "        #print(l)\n",
    "        choice = random.choice(l)\n",
    "        #print(\"Random choice: \", choice)\n",
    "        return (l, choice)\n",
    "\n",
    "if __name__ == '__main__':\n",
    "    unittest.main(argv=['first-arg-is-ignored'], exit=False)"
   ]
  },
  {
   "cell_type": "markdown",
   "metadata": {},
   "source": [
    "### Conclusions ###\n",
    "Slicing lengthens time of algorithm execution for big lists in binary search algorithm."
   ]
  }
 ],
 "metadata": {
  "kernelspec": {
   "display_name": "Python 3.10.6 64-bit",
   "language": "python",
   "name": "python3"
  },
  "language_info": {
   "codemirror_mode": {
    "name": "ipython",
    "version": 3
   },
   "file_extension": ".py",
   "mimetype": "text/x-python",
   "name": "python",
   "nbconvert_exporter": "python",
   "pygments_lexer": "ipython3",
   "version": "3.10.6"
  },
  "orig_nbformat": 4,
  "vscode": {
   "interpreter": {
    "hash": "1b4d5d8c28046b098bf6c58817e24fa10cf26993ce19eb605460d6a4cf12ddf9"
   }
  }
 },
 "nbformat": 4,
 "nbformat_minor": 2
}
