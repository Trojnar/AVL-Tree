{
 "cells": [
  {
   "cell_type": "code",
   "execution_count": 1,
   "metadata": {},
   "outputs": [],
   "source": [
    "# insert main folder to path to user tree module\n",
    "import sys\n",
    "sys.path.insert(0, '../')\n",
    "\n",
    "\n",
    "from tree import TreeMap\n",
    "from tree import TreeNode\n",
    "\n",
    "\n",
    "from typing import Optional"
   ]
  },
  {
   "cell_type": "markdown",
   "metadata": {},
   "source": [
    "# Comparison of the execution time of binary search algorithms for list of nodes taken from basic tree."
   ]
  },
  {
   "cell_type": "markdown",
   "metadata": {},
   "source": [
    "## Recursive binary search with slicing"
   ]
  },
  {
   "cell_type": "code",
   "execution_count": 49,
   "metadata": {},
   "outputs": [],
   "source": [
    "def find_first_occurrence(nodes: list[TreeNode], key, lo=0) -> Optional[tuple]:\n",
    "        \"\"\"\n",
    "        Search through sorted list of nodes and find first occurrence of the given key.\n",
    "\n",
    "        Parameters\n",
    "        ----------\n",
    "        nodes : list\n",
    "            List of sorted nodes to search in.\n",
    "        key\n",
    "            Key of wanted node\n",
    "\n",
    "        Returns\n",
    "        -------\n",
    "        tuple\n",
    "            (last_node, index of the first node)\n",
    "\n",
    "        \"\"\"\n",
    "\n",
    "\n",
    "        mid = len(nodes) // 2\n",
    "        if len(nodes) <= 1:\n",
    "            # It means list is empty or there is only one node in the list which is \n",
    "            # not of the key being searched for.\n",
    "            if len(nodes) == 1 and nodes[0].key == key:\n",
    "                return nodes[0], 0\n",
    "            return None\n",
    "        if len(nodes) >= 2 and nodes[mid].key == key and nodes[mid - 1].key == key:\n",
    "            return find_first_occurrence(nodes[:mid], key, lo)\n",
    "        elif nodes[mid].key == key:\n",
    "            return (nodes[mid], lo + mid)\n",
    "        elif nodes[mid].key > key:\n",
    "            return find_first_occurrence(nodes[:mid], key, lo)\n",
    "        elif nodes[mid].key < key:\n",
    "            return find_first_occurrence(nodes[mid:], key, lo + mid)\n",
    "\n",
    "        return None"
   ]
  },
  {
   "cell_type": "markdown",
   "metadata": {},
   "source": [
    "Execution of above function for the same array for 100 times."
   ]
  },
  {
   "cell_type": "code",
   "execution_count": 71,
   "metadata": {},
   "outputs": [
    {
     "name": "stdout",
     "output_type": "stream",
     "text": [
      "Tree:\n",
      "\t\t\t Ø\n",
      "\t\t 9\n",
      "\t\t\t 5\n",
      "\t 9\n",
      "\t\t Ø\n",
      " 1\n",
      "\t\t 6\n",
      "\t 7\n",
      "\t\t 2\n",
      "Sorted list of nodes: \n",
      " [TreeNode(1, None), TreeNode(2, None), TreeNode(5, None), TreeNode(6, None), TreeNode(7, None), TreeNode(9, None), TreeNode(9, None)]\n",
      "Function executed 100 times in mean time of:\n",
      "229 µs ± 25.2 µs per loop (mean ± std. dev. of 7 runs, 1,000 loops each)\n"
     ]
    }
   ],
   "source": [
    "tree_map_tuple =              (\n",
    "                ((None, 2, None), 7, (None, 6, None)),\n",
    "                1,\n",
    "                (None, 9, ((None, 5, None), 9, None)),\n",
    "            )\n",
    "tree_map = TreeMap.parse_tuple(tree_map_tuple)\n",
    "tree_list = tree_map.to_list()\n",
    "result = find_first_occurrence(tree_list, 9)\n",
    "assert result is not None, \"Node should be found.\"\n",
    "assert result[0] == TreeNode(9, None) and result[1] == 5, \"Result incorrect\"\n",
    "print(\"Tree:\")\n",
    "tree_map.display_keys()\n",
    "print(\"Sorted list of nodes: \\n\", tree_list)\n",
    "print(\"Function executed 100 times in mean time of:\")\n",
    "%timeit [find_first_occurrence(tree_list, 9) for i in range(100)]"
   ]
  },
  {
   "cell_type": "markdown",
   "metadata": {},
   "source": [
    "## Recursive binary search without slicing"
   ]
  },
  {
   "cell_type": "code",
   "execution_count": 69,
   "metadata": {},
   "outputs": [],
   "source": [
    "def find_first_occurrence_no_slicing(\n",
    "    nodes: list[TreeNode], key, hi=None, lo=0\n",
    ") -> Optional[tuple]:\n",
    "    \"\"\"\n",
    "    Search through sorted list of nodes and find first occurrence of the given key.\n",
    "\n",
    "    Parameters\n",
    "    ----------\n",
    "    nodes : list\n",
    "        List of sorted nodes to search in.\n",
    "    key\n",
    "        Key of wanted node\n",
    "\n",
    "    Returns\n",
    "    -------\n",
    "    tuple\n",
    "        (last_node, index of the first node)\n",
    "\n",
    "    \"\"\"\n",
    "    if hi == None:\n",
    "        hi = len(nodes) - 1\n",
    "        \n",
    "    mid = (hi - lo) // 2\n",
    "    if hi <= lo + 1:\n",
    "        # It means list is empty or there is only one node in the list which is \n",
    "        # not of the key being searched for.\n",
    "        if hi == lo and nodes[lo+mid].key == key:\n",
    "            return nodes[0], lo+mid\n",
    "        return None\n",
    "    elif (hi - lo) >= 1 and nodes[mid].key == key and nodes[mid - 1].key == key:\n",
    "        return find_first_occurrence_no_slicing(nodes, key, hi - mid, lo)\n",
    "    elif nodes[lo + mid].key == key:\n",
    "        return (nodes[lo + mid], lo + mid)\n",
    "    elif nodes[mid].key > key:\n",
    "        return find_first_occurrence_no_slicing(nodes, key, hi - mid, lo)\n",
    "    elif nodes[mid].key < key:\n",
    "        return find_first_occurrence_no_slicing(nodes, key, hi, lo + mid)\n",
    "\n",
    "    return None\n"
   ]
  },
  {
   "cell_type": "code",
   "execution_count": 70,
   "metadata": {},
   "outputs": [
    {
     "name": "stdout",
     "output_type": "stream",
     "text": [
      "(TreeNode(9, None), 5)\n",
      "Tree:\n",
      "\t\t\t Ø\n",
      "\t\t 9\n",
      "\t\t\t 5\n",
      "\t 9\n",
      "\t\t Ø\n",
      " 1\n",
      "\t\t 6\n",
      "\t 7\n",
      "\t\t 2\n",
      "Sorted list of nodes: \n",
      " [TreeNode(1, None), TreeNode(2, None), TreeNode(5, None), TreeNode(6, None), TreeNode(7, None), TreeNode(9, None), TreeNode(9, None)]\n",
      "Function executed 100 times in mean time of:\n",
      "321 µs ± 14.4 µs per loop (mean ± std. dev. of 7 runs, 1,000 loops each)\n"
     ]
    }
   ],
   "source": [
    "tree_map_tuple =              (\n",
    "                ((None, 2, None), 7, (None, 6, None)),\n",
    "                1,\n",
    "                (None, 9, ((None, 5, None), 9, None)),\n",
    "            )\n",
    "tree_map = TreeMap.parse_tuple(tree_map_tuple)\n",
    "tree_list = tree_map.to_list()\n",
    "result = find_first_occurrence_no_slicing(tree_list, 9)\n",
    "print(result)\n",
    "assert result is not None, \"Node should be found.\"\n",
    "assert result[0] == TreeNode(9, None) and result[1] == 5, \"Result incorrect\"\n",
    "print(\"Tree:\")\n",
    "tree_map.display_keys()\n",
    "print(\"Sorted list of nodes: \\n\", tree_list)\n",
    "print(\"Function executed 100 times in mean time of:\")\n",
    "%timeit [find_first_occurrence_no_slicing(tree_list, 9) for i in range(100)]"
   ]
  },
  {
   "cell_type": "markdown",
   "metadata": {},
   "source": [
    "## Non-recursive binary search"
   ]
  },
  {
   "cell_type": "code",
   "execution_count": 6,
   "metadata": {},
   "outputs": [],
   "source": [
    "def find_first_occurrence_no_recursion(nodes: list[TreeNode], key):\n",
    "    node, index = (None, None)\n",
    "    lo = 0\n",
    "    hi = len(nodes)-1\n",
    "\n",
    "    if hi == lo and nodes[hi].key == key:\n",
    "        return nodes[0], index\n",
    "\n",
    "    while hi > lo + 1:\n",
    "        mid = (hi - lo) // 2\n",
    "        if nodes[lo + mid].key == key:\n",
    "            if nodes[mid - 1].key == key:\n",
    "                hi -= mid\n",
    "            else:\n",
    "                node = nodes[lo+mid]\n",
    "                index = lo+mid\n",
    "                break\n",
    "        elif nodes[mid].key > key:\n",
    "            hi -= mid\n",
    "        elif nodes[mid].key < key:\n",
    "            lo += mid\n",
    "\n",
    "    if index == None:\n",
    "        return None\n",
    "        \n",
    "    return (node, index)\n",
    "    "
   ]
  },
  {
   "cell_type": "code",
   "execution_count": 72,
   "metadata": {},
   "outputs": [
    {
     "name": "stdout",
     "output_type": "stream",
     "text": [
      "(TreeNode(9, None), 5)\n",
      "Tree:\n",
      "\t\t\t Ø\n",
      "\t\t 9\n",
      "\t\t\t 5\n",
      "\t 9\n",
      "\t\t Ø\n",
      " 1\n",
      "\t\t 6\n",
      "\t 7\n",
      "\t\t 2\n",
      "Sorted list of nodes: \n",
      " [TreeNode(1, None), TreeNode(2, None), TreeNode(5, None), TreeNode(6, None), TreeNode(7, None), TreeNode(9, None), TreeNode(9, None)]\n",
      "Function executed 100 times in mean time of:\n",
      "272 µs ± 25.1 µs per loop (mean ± std. dev. of 7 runs, 1,000 loops each)\n"
     ]
    }
   ],
   "source": [
    "tree_map_tuple =              (\n",
    "                ((None, 2, None), 7, (None, 6, None)),\n",
    "                1,\n",
    "                (None, 9, ((None, 5, None), 9, None)),\n",
    "            )\n",
    "tree_map = TreeMap.parse_tuple(tree_map_tuple)\n",
    "tree_list = tree_map.to_list()\n",
    "result = find_first_occurrence_no_recursion(tree_list, 9)\n",
    "print(result)\n",
    "assert result is not None, \"Node should be found.\"\n",
    "assert result[0] == TreeNode(9, None) and result[1] == 5, \"Result incorrect\"\n",
    "print(\"Tree:\")\n",
    "tree_map.display_keys()\n",
    "print(\"Sorted list of nodes: \\n\", tree_list)\n",
    "print(\"Function executed 100 times in mean time of:\")\n",
    "%timeit [find_first_occurrence_no_recursion(tree_list, 9) for i in range(100)]"
   ]
  },
  {
   "cell_type": "markdown",
   "metadata": {},
   "source": [
    "## No recursion with slicing"
   ]
  },
  {
   "cell_type": "code",
   "execution_count": 73,
   "metadata": {},
   "outputs": [],
   "source": [
    "def find_first_occurrence_no_recursion_with_slicing(nodes: list[TreeNode], key):\n",
    "    if len(nodes) == 1 and nodes[0].key == key:\n",
    "        return (nodes[0], 0)\n",
    "\n",
    "    node, index = (None, None)\n",
    "    lo = 0\n",
    "    while len(nodes) > 1:\n",
    "        mid = len(nodes) // 2\n",
    "        if nodes[mid].key == key:\n",
    "            if len(nodes) >= 2 and nodes[mid - 1].key == key:\n",
    "                nodes = nodes[:mid]\n",
    "            else:\n",
    "                node = nodes[mid]\n",
    "                index = lo+mid\n",
    "                break\n",
    "        elif nodes[mid].key > key:\n",
    "           nodes = nodes[:mid]\n",
    "        elif nodes[mid].key < key:\n",
    "           nodes = nodes[mid:]\n",
    "           lo += mid\n",
    "     \n",
    "    if index == None:\n",
    "        return None\n",
    "\n",
    "    return (node, index)\n",
    "    "
   ]
  },
  {
   "cell_type": "code",
   "execution_count": 74,
   "metadata": {},
   "outputs": [
    {
     "name": "stdout",
     "output_type": "stream",
     "text": [
      "(TreeNode(9, None), 5)\n",
      "Tree:\n",
      "\t\t\t Ø\n",
      "\t\t 9\n",
      "\t\t\t 5\n",
      "\t 9\n",
      "\t\t Ø\n",
      " 1\n",
      "\t\t 6\n",
      "\t 7\n",
      "\t\t 2\n",
      "Sorted list of nodes: \n",
      " [TreeNode(1, None), TreeNode(2, None), TreeNode(5, None), TreeNode(6, None), TreeNode(7, None), TreeNode(9, None), TreeNode(9, None)]\n",
      "Function executed 100 times in mean time of:\n",
      "197 µs ± 18.3 µs per loop (mean ± std. dev. of 7 runs, 1,000 loops each)\n"
     ]
    }
   ],
   "source": [
    "tree_map_tuple =              (\n",
    "                ((None, 2, None), 7, (None, 6, None)),\n",
    "                1,\n",
    "                (None, 9, ((None, 5, None), 9, None)),\n",
    "            )\n",
    "tree_map = TreeMap.parse_tuple(tree_map_tuple)\n",
    "tree_list = tree_map.to_list()\n",
    "result = find_first_occurrence_no_recursion_with_slicing(tree_list, 9)\n",
    "print(result)\n",
    "assert result is not None, \"Node should be found.\"\n",
    "assert result[0] == TreeNode(9, None) and result[1] == 5, \"Result incorrect\"\n",
    "print(\"Tree:\")\n",
    "tree_map.display_keys()\n",
    "print(\"Sorted list of nodes: \\n\", tree_list)\n",
    "print(\"Function executed 100 times in mean time of:\")\n",
    "%timeit [find_first_occurrence_no_recursion_with_slicing(tree_list, 9) for i in range(100)]"
   ]
  },
  {
   "cell_type": "markdown",
   "metadata": {},
   "source": [
    "## Searching using built-in python method index()"
   ]
  },
  {
   "cell_type": "code",
   "execution_count": 117,
   "metadata": {},
   "outputs": [],
   "source": [
    "def search_by_key(tree_list, key):\n",
    "    key_list = list(map(lambda x: x.key, tree_list))\n",
    "    try:\n",
    "        index = key_list.index(key)\n",
    "    except ValueError:\n",
    "        return None\n",
    "\n",
    "    return tree_list[index], index"
   ]
  },
  {
   "cell_type": "code",
   "execution_count": 115,
   "metadata": {},
   "outputs": [],
   "source": [
    "def search_by_node(tree_list, node):\n",
    "    index = tree_list.index(node)\n",
    "    if index >= 0:\n",
    "        return tree_list[index], index\n",
    "    else:\n",
    "        return None"
   ]
  },
  {
   "cell_type": "code",
   "execution_count": 119,
   "metadata": {},
   "outputs": [
    {
     "name": "stdout",
     "output_type": "stream",
     "text": [
      "(TreeNode(9, None), 5)\n",
      "(TreeNode(9, None), 5)\n",
      "Sorted list of nodes: \n",
      " [TreeNode(1, None), TreeNode(2, None), TreeNode(5, None), TreeNode(6, None), TreeNode(7, None), TreeNode(9, None), TreeNode(9, None)]\n",
      "Function executed 100 times in mean time of:\n",
      "258 µs ± 22.6 µs per loop (mean ± std. dev. of 7 runs, 1,000 loops each)\n",
      "395 µs ± 26.3 µs per loop (mean ± std. dev. of 7 runs, 1,000 loops each)\n"
     ]
    }
   ],
   "source": [
    "\n",
    "\n",
    "tree_map_tuple =              (\n",
    "                ((None, 2, None), 7, (None, 6, None)),\n",
    "                1,\n",
    "                (None, 9, ((None, 5, None), 9, None)),\n",
    "            )\n",
    "tree_map = TreeMap.parse_tuple(tree_map_tuple)\n",
    "tree_list = tree_map.to_list()\n",
    "result_by_key = search_by_key(tree_list, 9)\n",
    "result_by_node = search_by_node(tree_list, TreeNode(9, None))\n",
    "print(result_by_key)\n",
    "print(result_by_node)\n",
    "print(\"Sorted list of nodes: \\n\", tree_list)\n",
    "print(\"Function executed 100 times in mean time of:\")\n",
    "%timeit [search_by_key(tree_list, 9) for i in range(100)]\n",
    "%timeit [search_by_node(tree_list, TreeNode(9, None)) for i in range(100)]\n"
   ]
  },
  {
   "cell_type": "markdown",
   "metadata": {},
   "source": [
    "## Testing"
   ]
  },
  {
   "cell_type": "code",
   "execution_count": 145,
   "metadata": {},
   "outputs": [
    {
     "name": "stdout",
     "output_type": "stream",
     "text": [
      "\n",
      "\n",
      "#### Time test of every algorithm for the same big random list. ####\n",
      "Time for recursive algorithm with slicing:\n",
      "2.63 ms ± 276 µs per loop (mean ± std. dev. of 7 runs, 100 loops each)\n",
      "Time for recursive algorithm without slicing:\n",
      "830 µs ± 53.5 µs per loop (mean ± std. dev. of 7 runs, 1,000 loops each)\n",
      "Time for algorithm without recursion and slicing:\n",
      "585 µs ± 43.1 µs per loop (mean ± std. dev. of 7 runs, 1,000 loops each)\n",
      "Time for algorithm without recursion and with slicing:\n",
      "2.16 ms ± 116 µs per loop (mean ± std. dev. of 7 runs, 100 loops each)\n",
      "Time for algorithm with built-in index method:\n"
     ]
    },
    {
     "name": "stderr",
     "output_type": "stream",
     "text": [
      "."
     ]
    },
    {
     "name": "stdout",
     "output_type": "stream",
     "text": [
      "50.9 ms ± 7.33 ms per loop (mean ± std. dev. of 7 runs, 10 loops each)\n",
      "Time for algorithm without recursion and slicing:\n",
      "Function repeating 100 times for the following cases:\n",
      "## Keys are repeating ## \n",
      "[TreeNode(1, None), TreeNode(2, None), TreeNode(5, None), TreeNode(6, None), TreeNode(7, None), TreeNode(9, 5), TreeNode(9, None)]\n",
      "For key = 9:\n",
      "433 µs ± 47.7 µs per loop (mean ± std. dev. of 7 runs, 1,000 loops each)\n",
      "For key = 5:\n",
      "397 µs ± 43.3 µs per loop (mean ± std. dev. of 7 runs, 1,000 loops each)\n",
      "[TreeNode(1, 1), TreeNode(1, 1), TreeNode(2, 5), TreeNode(2, 2), TreeNode(2, 13), TreeNode(2, 6), TreeNode(3, 7), TreeNode(3, 3), TreeNode(3, 8), TreeNode(3, 11), TreeNode(4, 12), TreeNode(5, 9), TreeNode(5, 4), TreeNode(5, 10)]\n",
      "For key = 5:\n",
      "420 µs ± 34.6 µs per loop (mean ± std. dev. of 7 runs, 1,000 loops each)\n",
      "For key = 3:\n",
      "174 µs ± 11 µs per loop (mean ± std. dev. of 7 runs, 10,000 loops each)\n",
      "For key = 2:\n",
      "361 µs ± 23.3 µs per loop (mean ± std. dev. of 7 runs, 1,000 loops each)\n",
      "## only root tree map ##\n",
      "For key = 2:  [TreeNode(1, 1)]\n",
      "97.1 µs ± 5.92 µs per loop (mean ± std. dev. of 7 runs, 10,000 loops each)\n",
      "## Wanted node at the end of the tree ##\n",
      "For key = 5:  [TreeNode(1, None), TreeNode(2, None), TreeNode(5, None), TreeNode(6, None), TreeNode(7, None), TreeNode(9, 5), TreeNode(9, None)]\n",
      "402 µs ± 33 µs per loop (mean ± std. dev. of 7 runs, 1,000 loops each)\n",
      "## List is blank ##\n"
     ]
    },
    {
     "name": "stderr",
     "output_type": "stream",
     "text": [
      "."
     ]
    },
    {
     "name": "stdout",
     "output_type": "stream",
     "text": [
      "84.5 µs ± 13.6 µs per loop (mean ± std. dev. of 7 runs, 10,000 loops each)\n",
      "Time for algorithm without recursion and with slicing:\n",
      "Function repeating 100 times for the following cases:\n",
      "## Keys are repeating ## \n",
      "[TreeNode(1, None), TreeNode(2, None), TreeNode(5, None), TreeNode(6, None), TreeNode(7, None), TreeNode(9, 5), TreeNode(9, None)]\n",
      "For key = 9:\n",
      "289 µs ± 28.2 µs per loop (mean ± std. dev. of 7 runs, 1,000 loops each)\n",
      "For key = 5:\n",
      "411 µs ± 49.7 µs per loop (mean ± std. dev. of 7 runs, 1,000 loops each)\n",
      "[TreeNode(1, 1), TreeNode(1, 1), TreeNode(2, 5), TreeNode(2, 2), TreeNode(2, 13), TreeNode(2, 6), TreeNode(3, 7), TreeNode(3, 3), TreeNode(3, 8), TreeNode(3, 11), TreeNode(4, 12), TreeNode(5, 9), TreeNode(5, 4), TreeNode(5, 10)]\n",
      "For key = 5:\n",
      "586 µs ± 64.7 µs per loop (mean ± std. dev. of 7 runs, 1,000 loops each)\n",
      "For key = 3:\n",
      "914 µs ± 235 µs per loop (mean ± std. dev. of 7 runs, 1,000 loops each)\n",
      "For key = 2:\n",
      "481 µs ± 34 µs per loop (mean ± std. dev. of 7 runs, 1,000 loops each)\n",
      "## only root tree map ##\n",
      "For key = 2:  [TreeNode(1, 1)]\n",
      "68.5 µs ± 4.88 µs per loop (mean ± std. dev. of 7 runs, 10,000 loops each)\n",
      "## Wanted node at the end of the tree ##\n",
      "For key = 5:  [TreeNode(1, None), TreeNode(2, None), TreeNode(5, None), TreeNode(6, None), TreeNode(7, None), TreeNode(9, 5), TreeNode(9, None)]\n",
      "358 µs ± 29.7 µs per loop (mean ± std. dev. of 7 runs, 1,000 loops each)\n",
      "## List is blank ##\n"
     ]
    },
    {
     "name": "stderr",
     "output_type": "stream",
     "text": [
      "."
     ]
    },
    {
     "name": "stdout",
     "output_type": "stream",
     "text": [
      "49.7 µs ± 3.65 µs per loop (mean ± std. dev. of 7 runs, 10,000 loops each)\n",
      "Time for recursive algorithm with slicing:\n",
      "Function repeating 100 times for the following cases:\n",
      "## Keys are repeating ## \n",
      "[TreeNode(1, None), TreeNode(2, None), TreeNode(5, None), TreeNode(6, None), TreeNode(7, None), TreeNode(9, 5), TreeNode(9, None)]\n",
      "For key = 9:\n",
      "328 µs ± 13.9 µs per loop (mean ± std. dev. of 7 runs, 1,000 loops each)\n",
      "For key = 5:\n",
      "550 µs ± 56.1 µs per loop (mean ± std. dev. of 7 runs, 1,000 loops each)\n",
      "[TreeNode(1, 1), TreeNode(1, 1), TreeNode(2, 5), TreeNode(2, 2), TreeNode(2, 13), TreeNode(2, 6), TreeNode(3, 7), TreeNode(3, 3), TreeNode(3, 8), TreeNode(3, 11), TreeNode(4, 12), TreeNode(5, 9), TreeNode(5, 4), TreeNode(5, 10)]\n",
      "For key = 5:\n",
      "727 µs ± 68.6 µs per loop (mean ± std. dev. of 7 runs, 1,000 loops each)\n",
      "For key = 3:\n",
      "739 µs ± 134 µs per loop (mean ± std. dev. of 7 runs, 1,000 loops each)\n",
      "For key = 2:\n",
      "622 µs ± 29.7 µs per loop (mean ± std. dev. of 7 runs, 1,000 loops each)\n",
      "## only root tree map ##\n",
      "For key = 2:  [TreeNode(1, 1)]\n",
      "92.7 µs ± 7.52 µs per loop (mean ± std. dev. of 7 runs, 10,000 loops each)\n",
      "## Wanted node at the end of the tree ##\n",
      "For key = 5:  [TreeNode(1, None), TreeNode(2, None), TreeNode(5, None), TreeNode(6, None), TreeNode(7, None), TreeNode(9, 5), TreeNode(9, None)]\n",
      "494 µs ± 37.3 µs per loop (mean ± std. dev. of 7 runs, 1,000 loops each)\n",
      "## List is blank ##\n"
     ]
    },
    {
     "name": "stderr",
     "output_type": "stream",
     "text": [
      "."
     ]
    },
    {
     "name": "stdout",
     "output_type": "stream",
     "text": [
      "64.4 µs ± 6.59 µs per loop (mean ± std. dev. of 7 runs, 10,000 loops each)\n",
      "Time for recursive algorithm without slicing:\n",
      "Function repeating 100 times for the following cases:\n",
      "## Keys are repeating ## \n",
      "[TreeNode(1, None), TreeNode(2, None), TreeNode(5, None), TreeNode(6, None), TreeNode(7, None), TreeNode(9, 5), TreeNode(9, None)]\n",
      "For key = 9:\n",
      "491 µs ± 54.5 µs per loop (mean ± std. dev. of 7 runs, 1,000 loops each)\n",
      "For key = 5:\n",
      "448 µs ± 30.8 µs per loop (mean ± std. dev. of 7 runs, 1,000 loops each)\n",
      "[TreeNode(1, 1), TreeNode(1, 1), TreeNode(2, 5), TreeNode(2, 2), TreeNode(2, 13), TreeNode(2, 6), TreeNode(3, 7), TreeNode(3, 3), TreeNode(3, 8), TreeNode(3, 11), TreeNode(4, 12), TreeNode(5, 9), TreeNode(5, 4), TreeNode(5, 10)]\n",
      "For key = 5:\n",
      "455 µs ± 34.6 µs per loop (mean ± std. dev. of 7 runs, 1,000 loops each)\n",
      "For key = 3:\n",
      "175 µs ± 13.2 µs per loop (mean ± std. dev. of 7 runs, 10,000 loops each)\n",
      "For key = 2:\n",
      "572 µs ± 194 µs per loop (mean ± std. dev. of 7 runs, 1,000 loops each)\n",
      "## only root tree map ##\n",
      "For key = 2:  [TreeNode(1, 1)]\n",
      "124 µs ± 13.9 µs per loop (mean ± std. dev. of 7 runs, 10,000 loops each)\n",
      "## Wanted node at the end of the tree ##\n",
      "For key = 5:  [TreeNode(1, None), TreeNode(2, None), TreeNode(5, None), TreeNode(6, None), TreeNode(7, None), TreeNode(9, 5), TreeNode(9, None)]\n",
      "505 µs ± 57.7 µs per loop (mean ± std. dev. of 7 runs, 1,000 loops each)\n",
      "## List is blank ##\n"
     ]
    },
    {
     "name": "stderr",
     "output_type": "stream",
     "text": [
      "."
     ]
    },
    {
     "name": "stdout",
     "output_type": "stream",
     "text": [
      "71.8 µs ± 7.25 µs per loop (mean ± std. dev. of 7 runs, 10,000 loops each)\n",
      "Function repeating 100 times for the following cases:\n",
      "## Keys are repeating ## \n",
      "[TreeNode(1, None), TreeNode(2, None), TreeNode(5, None), TreeNode(6, None), TreeNode(7, None), TreeNode(9, 5), TreeNode(9, None)]\n",
      "For key = 9:\n",
      "396 µs ± 72.7 µs per loop (mean ± std. dev. of 7 runs, 1,000 loops each)\n",
      "For key = 5:\n",
      "347 µs ± 30.3 µs per loop (mean ± std. dev. of 7 runs, 1,000 loops each)\n",
      "[TreeNode(1, 1), TreeNode(1, 1), TreeNode(2, 5), TreeNode(2, 2), TreeNode(2, 13), TreeNode(2, 6), TreeNode(3, 7), TreeNode(3, 3), TreeNode(3, 8), TreeNode(3, 11), TreeNode(4, 12), TreeNode(5, 9), TreeNode(5, 4), TreeNode(5, 10)]\n",
      "For key = 5:\n",
      "628 µs ± 52.8 µs per loop (mean ± std. dev. of 7 runs, 1,000 loops each)\n",
      "For key = 3:\n",
      "621 µs ± 64.6 µs per loop (mean ± std. dev. of 7 runs, 1,000 loops each)\n",
      "For key = 2:\n",
      "833 µs ± 289 µs per loop (mean ± std. dev. of 7 runs, 1,000 loops each)\n",
      "## only root tree map ##\n",
      "For key = 2:  [TreeNode(1, 1)]\n",
      "220 µs ± 76.9 µs per loop (mean ± std. dev. of 7 runs, 1,000 loops each)\n",
      "## Wanted node at the end of the tree ##\n",
      "For key = 5:  [TreeNode(1, None), TreeNode(2, None), TreeNode(5, None), TreeNode(6, None), TreeNode(7, None), TreeNode(9, 5), TreeNode(9, None)]\n",
      "395 µs ± 47.9 µs per loop (mean ± std. dev. of 7 runs, 1,000 loops each)\n",
      "## List is blank ##\n"
     ]
    },
    {
     "name": "stderr",
     "output_type": "stream",
     "text": [
      ".\n",
      "----------------------------------------------------------------------\n",
      "Ran 6 tests in 219.050s\n",
      "\n",
      "OK\n"
     ]
    },
    {
     "name": "stdout",
     "output_type": "stream",
     "text": [
      "233 µs ± 65.5 µs per loop (mean ± std. dev. of 7 runs, 1,000 loops each)\n"
     ]
    }
   ],
   "source": [
    "# type: ignore\n",
    "import unittest\n",
    "import random\n",
    "\n",
    "class BinarySearchTest(unittest.TestCase):\n",
    "\n",
    "    def test_binary_search_with_recursion(self):\n",
    "        self.__tests(find_first_occurrence)\n",
    "        print(\"Time for recursive algorithm with slicing:\")\n",
    "        BinarySearchTest.__test_time(find_first_occurrence)\n",
    "\n",
    "    def test_recursive_binary_search_without_slicing(self):\n",
    "        self.__tests(find_first_occurrence_no_slicing)\n",
    "        print(\"Time for recursive algorithm without slicing:\")\n",
    "        BinarySearchTest.__test_time(find_first_occurrence_no_slicing)\n",
    "    \n",
    "    def test_binary_search_no_recursion(self):\n",
    "        print(\"Time for algorithm without recursion and slicing:\")\n",
    "        self.__tests(find_first_occurrence_no_recursion)\n",
    "        BinarySearchTest.__test_time(find_first_occurrence_no_recursion)\n",
    "\n",
    "    def test_binary_search_no_recursion_with_slicing(self):\n",
    "        self.__tests(find_first_occurrence_no_recursion_with_slicing)\n",
    "        print(\"Time for algorithm without recursion and with slicing:\")\n",
    "        BinarySearchTest.__test_time(find_first_occurrence_no_recursion_with_slicing)\n",
    "\n",
    "    def test_search(self):\n",
    "        self.__tests(search_by_key)\n",
    "        BinarySearchTest.__test_time(search_by_key)\n",
    "\n",
    "    def test_big_random_list(self):\n",
    "        print()\n",
    "        print()\n",
    "        print(\"#### Time test of every algorithm for the same big random list. ####\")\n",
    "        list, choice = self.__generate_list(1234)\n",
    "        print(\"Time for recursive algorithm with slicing:\")\n",
    "        self.__test_time_big_list(list, choice, find_first_occurrence)\n",
    "        print(\"Time for recursive algorithm without slicing:\")\n",
    "        self.__test_time_big_list(list, choice, find_first_occurrence_no_slicing)\n",
    "        print(\"Time for algorithm without recursion and slicing:\")\n",
    "        self.__test_time_big_list(list, choice, find_first_occurrence_no_recursion)\n",
    "        print(\"Time for algorithm without recursion and with slicing:\")\n",
    "        self.__test_time_big_list(list, choice, find_first_occurrence_no_recursion_with_slicing)\n",
    "        print(\"Time for algorithm with built-in index method:\")\n",
    "        self.__test_time_big_list(list, choice, search_by_key)\n",
    "\n",
    "    def __tests(self, function):\n",
    "        global tree_map\n",
    "        tree_l = tree_map.to_list()\n",
    "        self.assertEqual(function(tree_l, 5)[0], TreeNode(5, None))\n",
    "\n",
    "        # keys are repeating\n",
    "        tree_map.root.right.value = 5\n",
    "        self.assertEqual(\n",
    "            function(tree_l, 9)[0], TreeNode(9, 5)\n",
    "        )\n",
    "        self.assertIs(\n",
    "            function(tree_l, 5)[0],\n",
    "            tree_map.root.right.right.left,\n",
    "        )\n",
    "        tree_repeating = TreeMap(TreeNode(1, 1))\n",
    "        tree_repeating.parse_list(\n",
    "            [\n",
    "                TreeNode(1, 1),\n",
    "                TreeNode(2, 2),\n",
    "                TreeNode(3, 3),\n",
    "                TreeNode(5, 4),\n",
    "                TreeNode(2, 5),\n",
    "                TreeNode(2, 6),\n",
    "                TreeNode(3, 7),\n",
    "                TreeNode(3, 8),\n",
    "                TreeNode(5, 9),\n",
    "                TreeNode(5, 10),\n",
    "                TreeNode(3, 11),\n",
    "                TreeNode(4, 12),\n",
    "                TreeNode(2, 13),\n",
    "            ]\n",
    "        )\n",
    "        tree_l_re = tree_repeating.to_list()\n",
    "        self.assertEqual(\n",
    "            function(tree_l_re, 5)[0],\n",
    "            TreeNode(5, 9),\n",
    "        )\n",
    "        self.assertEqual(\n",
    "            function(tree_l_re, 3)[0],\n",
    "            TreeNode(3, 7),\n",
    "        )\n",
    "        self.assertEqual(\n",
    "            function(tree_l_re, 2)[0],\n",
    "            TreeNode(2, 5),\n",
    "        )\n",
    "        \n",
    "        # only root tree map\n",
    "        tree = TreeMap(TreeNode(1, 1))\n",
    "        tree_o_r = tree.to_list()\n",
    "        self.assertEqual(function(tree_o_r, 1)[0], TreeNode(1, 1))\n",
    "\n",
    "        # key not found\n",
    "        self.assertEqual(function(tree_l, 15), None)\n",
    "\n",
    "        # Wanted node at the end of the tree\n",
    "        self.assertEqual(function(tree_l, 5)[0], TreeNode(5, None))\n",
    "        self.assertIs(\n",
    "            tree_map.find(5)[0],\n",
    "            tree_map.root.right.right.left,\n",
    "        )\n",
    "\n",
    "        # Nodes is blank\n",
    "        self.assertEqual(function([], 1), None)\n",
    "\n",
    "    @staticmethod\n",
    "    def __test_time(function):\n",
    "\n",
    "        global tree_map\n",
    "        tree_l = tree_map.to_list()\n",
    "        times = 100\n",
    "        print(f\"Function repeating {times} times for the following cases:\")\n",
    "\n",
    "        print(\"## Keys are repeating ## \")\n",
    "        print(tree_l)\n",
    "        print(\"For key = 9:\")\n",
    "        %timeit [function(tree_l, 9) for i in range(100)]\n",
    "        print(\"For key = 5:\")\n",
    "        %timeit [function(tree_l, 5) for i in range(100)]\n",
    "\n",
    "\n",
    "        tree_repeating = TreeMap(TreeNode(1, 1))\n",
    "        tree_repeating.parse_list(\n",
    "            [\n",
    "                TreeNode(1, 1),\n",
    "                TreeNode(2, 2),\n",
    "                TreeNode(3, 3),\n",
    "                TreeNode(5, 4),\n",
    "                TreeNode(2, 5),\n",
    "                TreeNode(2, 6),\n",
    "                TreeNode(3, 7),\n",
    "                TreeNode(3, 8),\n",
    "                TreeNode(5, 9),\n",
    "                TreeNode(5, 10),\n",
    "                TreeNode(3, 11),\n",
    "                TreeNode(4, 12),\n",
    "                TreeNode(2, 13),\n",
    "            ]\n",
    "        )\n",
    "        tree_l_re = tree_repeating.to_list()\n",
    "        print(tree_l_re)\n",
    "        print(\"For key = 5:\")\n",
    "        %timeit [ function(tree_l_re, 5) for i in range(100)]\n",
    "        print(\"For key = 3:\")\n",
    "        %timeit [ function(tree_l_re, 3) for i in range(100)]\n",
    "        print(\"For key = 2:\")\n",
    "        %timeit [ function(tree_l_re, 2) for i in range(100)]\n",
    "\n",
    "        \n",
    "        print(\"## only root tree map ##\")\n",
    "        tree = TreeMap(TreeNode(1, 1))\n",
    "        tree_o_r = tree.to_list()\n",
    "        print(\"For key = 2: \", tree_o_r)\n",
    "        %timeit [function(tree_o_r, 1) for i in range(100)]\n",
    "\n",
    "        print(\"## Wanted node at the end of the tree ##\")\n",
    "        print(\"For key = 5: \", tree_l)\n",
    "        %timeit [function(tree_l, 5) for i in range(100)]\n",
    "\n",
    "        print(\"## List is blank ##\")\n",
    "        %timeit [function([], 1) for i in range(100)]\n",
    "\n",
    "    @staticmethod\n",
    "    def __test_time_big_list(l, choice, function):\n",
    "        %timeit [function(l, choice.key) for i in range(100)]\n",
    "\n",
    "    @staticmethod\n",
    "    def __generate_list(seed):\n",
    "        l = list()\n",
    "        random.seed(seed)\n",
    "        for _ in range(1000):\n",
    "            n = TreeNode(random.randint(1, 50), None)\n",
    "            l.append(n)\n",
    "        \n",
    "        l.sort(key = lambda x: x.key)\n",
    "\n",
    "        #print(f\"List generated nodes with seed {seed}: \")\n",
    "        #print(l)\n",
    "        choice = random.choice(l)\n",
    "        #print(\"Random choice: \", choice)\n",
    "        return (l, choice)\n",
    "\n",
    "if __name__ == '__main__':\n",
    "    unittest.main(argv=['first-arg-is-ignored'], exit=False)"
   ]
  },
  {
   "cell_type": "markdown",
   "metadata": {},
   "source": [
    "### Conclusions ###\n",
    "Slicing lengthens time of algorithm execution for big lists in binary search algorithm."
   ]
  }
 ],
 "metadata": {
  "kernelspec": {
   "display_name": "Python 3.10.6 64-bit",
   "language": "python",
   "name": "python3"
  },
  "language_info": {
   "codemirror_mode": {
    "name": "ipython",
    "version": 3
   },
   "file_extension": ".py",
   "mimetype": "text/x-python",
   "name": "python",
   "nbconvert_exporter": "python",
   "pygments_lexer": "ipython3",
   "version": "3.10.6"
  },
  "orig_nbformat": 4,
  "vscode": {
   "interpreter": {
    "hash": "1b4d5d8c28046b098bf6c58817e24fa10cf26993ce19eb605460d6a4cf12ddf9"
   }
  }
 },
 "nbformat": 4,
 "nbformat_minor": 2
}
