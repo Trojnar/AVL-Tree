{
 "cells": [
  {
   "cell_type": "code",
   "execution_count": 1,
   "metadata": {},
   "outputs": [],
   "source": [
    "# insert main folder to path to user tree module\n",
    "import sys\n",
    "sys.path.insert(0, '../')\n",
    "\n",
    "\n",
    "from tree import TreeMap\n",
    "from tree import TreeNode\n",
    "\n",
    "\n",
    "from typing import Optional"
   ]
  },
  {
   "cell_type": "markdown",
   "metadata": {},
   "source": [
    "# Comparison of the execution time of binary search algorithms for list of nodes taken from basic tree."
   ]
  },
  {
   "cell_type": "markdown",
   "metadata": {},
   "source": [
    "## Recursive binary search with slicing"
   ]
  },
  {
   "cell_type": "code",
   "execution_count": 2,
   "metadata": {},
   "outputs": [],
   "source": [
    "def find_first_occurrence(nodes: list[TreeNode], key, lo=0) -> Optional[tuple]:\n",
    "        \"\"\"\n",
    "        Search through sorted list of nodes and find first occurrence of the given key.\n",
    "\n",
    "        Parameters\n",
    "        ----------\n",
    "        nodes : list\n",
    "            List of sorted nodes to search in.\n",
    "        key\n",
    "            Key of wanted node\n",
    "\n",
    "        Returns\n",
    "        -------\n",
    "        tuple\n",
    "            (last_node, index of the first node)\n",
    "\n",
    "        \"\"\"\n",
    "        mid = len(nodes) // 2\n",
    "        if len(nodes) >= 2 and nodes[mid].key == key and nodes[mid - 1].key == key:\n",
    "            return find_first_occurrence(nodes[:mid], key, lo)\n",
    "        elif nodes[mid].key == key:\n",
    "            return (nodes[mid], lo + mid)\n",
    "        elif len(nodes) == 1:\n",
    "            # It means there is only one element in the list which is not of the key \n",
    "            # being searched for.\n",
    "            return None\n",
    "        elif nodes[mid].key > key:\n",
    "            return find_first_occurrence(nodes[:mid], key, lo)\n",
    "        elif nodes[mid].key < key:\n",
    "            return find_first_occurrence(nodes[mid:], key, lo + mid)\n",
    "\n",
    "        return None"
   ]
  },
  {
   "cell_type": "markdown",
   "metadata": {},
   "source": [
    "Execution of above function for the same array for 100 times."
   ]
  },
  {
   "cell_type": "code",
   "execution_count": 3,
   "metadata": {},
   "outputs": [
    {
     "name": "stdout",
     "output_type": "stream",
     "text": [
      "Tree:\n",
      "\t\t\t Ø\n",
      "\t\t 9\n",
      "\t\t\t 5\n",
      "\t 9\n",
      "\t\t Ø\n",
      " 1\n",
      "\t\t 6\n",
      "\t 7\n",
      "\t\t 2\n",
      "Sorted list of nodes: \n",
      " [TreeNode(1, None), TreeNode(2, None), TreeNode(5, None), TreeNode(6, None), TreeNode(7, None), TreeNode(9, None), TreeNode(9, None)]\n",
      "Function executed 100 times in mean time of:\n",
      "213 µs ± 7.6 µs per loop (mean ± std. dev. of 7 runs, 1,000 loops each)\n"
     ]
    }
   ],
   "source": [
    "tree_map_tuple =              (\n",
    "                ((None, 2, None), 7, (None, 6, None)),\n",
    "                1,\n",
    "                (None, 9, ((None, 5, None), 9, None)),\n",
    "            )\n",
    "tree_map = TreeMap.parse_tuple(tree_map_tuple)\n",
    "tree_list = tree_map.to_list()\n",
    "result = find_first_occurrence(tree_list, 9)\n",
    "assert result is not None, \"Node should be found.\"\n",
    "assert result[0] == TreeNode(9, None) and result[1] == 5, \"Result incorrect\"\n",
    "print(\"Tree:\")\n",
    "tree_map.display_keys()\n",
    "print(\"Sorted list of nodes: \\n\", tree_list)\n",
    "print(\"Function executed 100 times in mean time of:\")\n",
    "%timeit [find_first_occurrence(tree_list, 9) for i in range(100)]"
   ]
  },
  {
   "cell_type": "markdown",
   "metadata": {},
   "source": [
    "## Recursive binary search without slicing"
   ]
  },
  {
   "cell_type": "code",
   "execution_count": 4,
   "metadata": {},
   "outputs": [],
   "source": [
    "def find_first_occurrence_no_slicing(\n",
    "    nodes: list[TreeNode], key, hi=None, lo=0\n",
    ") -> Optional[tuple]:\n",
    "    \"\"\"\n",
    "    Search through sorted list of nodes and find first occurrence of the given key.\n",
    "\n",
    "    Parameters\n",
    "    ----------\n",
    "    nodes : list\n",
    "        List of sorted nodes to search in.\n",
    "    key\n",
    "        Key of wanted node\n",
    "\n",
    "    Returns\n",
    "    -------\n",
    "    tuple\n",
    "        (last_node, index of the first node)\n",
    "\n",
    "    \"\"\"\n",
    "    if hi == None:\n",
    "        hi = len(nodes) - 1\n",
    "    mid = (hi - lo) // 2\n",
    "\n",
    "    if (hi - lo) >= 1 and nodes[mid].key == key and nodes[mid - 1].key == key:\n",
    "        return find_first_occurrence_no_slicing(nodes, key, hi - mid, lo)\n",
    "    if nodes[lo + mid].key == key:\n",
    "        return (nodes[lo + mid], lo + mid)\n",
    "    elif hi == lo + 1:\n",
    "        return None\n",
    "    elif nodes[mid].key > key:\n",
    "        return find_first_occurrence_no_slicing(nodes, key, hi - mid, lo)\n",
    "    elif nodes[mid].key < key:\n",
    "        return find_first_occurrence_no_slicing(nodes, key, hi, lo + mid)\n",
    "\n",
    "    return None\n"
   ]
  },
  {
   "cell_type": "code",
   "execution_count": 5,
   "metadata": {},
   "outputs": [
    {
     "name": "stdout",
     "output_type": "stream",
     "text": [
      "(TreeNode(9, None), 5)\n",
      "Tree:\n",
      "\t\t\t Ø\n",
      "\t\t 9\n",
      "\t\t\t 5\n",
      "\t 9\n",
      "\t\t Ø\n",
      " 1\n",
      "\t\t 6\n",
      "\t 7\n",
      "\t\t 2\n",
      "Sorted list of nodes: \n",
      " [TreeNode(1, None), TreeNode(2, None), TreeNode(5, None), TreeNode(6, None), TreeNode(7, None), TreeNode(9, None), TreeNode(9, None)]\n",
      "Function executed 100 times in mean time of:\n",
      "364 µs ± 42.8 µs per loop (mean ± std. dev. of 7 runs, 1,000 loops each)\n"
     ]
    }
   ],
   "source": [
    "tree_map_tuple =              (\n",
    "                ((None, 2, None), 7, (None, 6, None)),\n",
    "                1,\n",
    "                (None, 9, ((None, 5, None), 9, None)),\n",
    "            )\n",
    "tree_map = TreeMap.parse_tuple(tree_map_tuple)\n",
    "tree_list = tree_map.to_list()\n",
    "result = find_first_occurrence_no_slicing(tree_list, 9)\n",
    "print(result)\n",
    "assert result is not None, \"Node should be found.\"\n",
    "assert result[0] == TreeNode(9, None) and result[1] == 5, \"Result incorrect\"\n",
    "print(\"Tree:\")\n",
    "tree_map.display_keys()\n",
    "print(\"Sorted list of nodes: \\n\", tree_list)\n",
    "print(\"Function executed 100 times in mean time of:\")\n",
    "%timeit [find_first_occurrence_no_slicing(tree_list, 9) for i in range(100)]"
   ]
  },
  {
   "cell_type": "markdown",
   "metadata": {},
   "source": [
    "## Non-recursive binary search"
   ]
  },
  {
   "cell_type": "code",
   "execution_count": 47,
   "metadata": {},
   "outputs": [],
   "source": [
    "def find_first_occurrence_no_recursion(nodes: list[TreeNode], key):\n",
    "    node, index = (None, None)\n",
    "    lo = 0\n",
    "    hi = len(nodes)-1\n",
    "    mid = (hi - lo) // 2\n",
    "    while hi != lo + 1:\n",
    "        mid = (hi - lo) // 2\n",
    "        if nodes[lo + mid].key == key:\n",
    "            if nodes[mid - 1].key == key:\n",
    "                hi -= mid\n",
    "            else:\n",
    "                node = nodes[lo+mid]\n",
    "                index = lo+mid\n",
    "                break\n",
    "        elif nodes[mid].key > key:\n",
    "            hi -= mid\n",
    "        elif nodes[mid].key < key:\n",
    "            lo += mid\n",
    "\n",
    "    return (node, index)\n",
    "    "
   ]
  },
  {
   "cell_type": "code",
   "execution_count": 48,
   "metadata": {},
   "outputs": [
    {
     "name": "stdout",
     "output_type": "stream",
     "text": [
      "(TreeNode(9, None), 5)\n",
      "Tree:\n",
      "\t\t\t Ø\n",
      "\t\t 9\n",
      "\t\t\t 5\n",
      "\t 9\n",
      "\t\t Ø\n",
      " 1\n",
      "\t\t 6\n",
      "\t 7\n",
      "\t\t 2\n",
      "Sorted list of nodes: \n",
      " [TreeNode(1, None), TreeNode(2, None), TreeNode(5, None), TreeNode(6, None), TreeNode(7, None), TreeNode(9, None), TreeNode(9, None)]\n",
      "Function executed 100 times in mean time of:\n",
      "238 µs ± 6.67 µs per loop (mean ± std. dev. of 7 runs, 1,000 loops each)\n"
     ]
    }
   ],
   "source": [
    "tree_map_tuple =              (\n",
    "                ((None, 2, None), 7, (None, 6, None)),\n",
    "                1,\n",
    "                (None, 9, ((None, 5, None), 9, None)),\n",
    "            )\n",
    "tree_map = TreeMap.parse_tuple(tree_map_tuple)\n",
    "tree_list = tree_map.to_list()\n",
    "result = find_first_occurrence_no_recursion(tree_list, 9)\n",
    "print(result)\n",
    "assert result is not None, \"Node should be found.\"\n",
    "assert result[0] == TreeNode(9, None) and result[1] == 5, \"Result incorrect\"\n",
    "print(\"Tree:\")\n",
    "tree_map.display_keys()\n",
    "print(\"Sorted list of nodes: \\n\", tree_list)\n",
    "print(\"Function executed 100 times in mean time of:\")\n",
    "%timeit [find_first_occurrence_no_recursion(tree_list, 9) for i in range(100)]"
   ]
  },
  {
   "cell_type": "markdown",
   "metadata": {},
   "source": [
    "## No recursion with slicing"
   ]
  },
  {
   "cell_type": "code",
   "execution_count": 65,
   "metadata": {},
   "outputs": [],
   "source": [
    "def find_first_occurrence_no_recursion_with_slicing(nodes: list[TreeNode], key):\n",
    "    node, index = (None, None)\n",
    "    lo = 0\n",
    "    while len(nodes) != 1:\n",
    "        mid = len(nodes) // 2\n",
    "        if nodes[mid].key == key:\n",
    "            if nodes[mid - 1].key == key:\n",
    "                nodes = nodes[:mid]\n",
    "            else:\n",
    "                node = nodes[mid]\n",
    "                index = lo+mid\n",
    "                break\n",
    "        elif nodes[mid].key > key:\n",
    "           nodes = nodes[:mid]\n",
    "        elif nodes[mid].key < key:\n",
    "           nodes = nodes[mid:]\n",
    "           lo += mid\n",
    "\n",
    "    return (node, index)\n",
    "    "
   ]
  },
  {
   "cell_type": "code",
   "execution_count": 66,
   "metadata": {},
   "outputs": [
    {
     "name": "stdout",
     "output_type": "stream",
     "text": [
      "(TreeNode(9, None), 5)\n",
      "Tree:\n",
      "\t\t\t Ø\n",
      "\t\t 9\n",
      "\t\t\t 5\n",
      "\t 9\n",
      "\t\t Ø\n",
      " 1\n",
      "\t\t 6\n",
      "\t 7\n",
      "\t\t 2\n",
      "Sorted list of nodes: \n",
      " [TreeNode(1, None), TreeNode(2, None), TreeNode(5, None), TreeNode(6, None), TreeNode(7, None), TreeNode(9, None), TreeNode(9, None)]\n",
      "Function executed 100 times in mean time of:\n",
      "175 µs ± 11.2 µs per loop (mean ± std. dev. of 7 runs, 1,000 loops each)\n"
     ]
    }
   ],
   "source": [
    "tree_map_tuple =              (\n",
    "                ((None, 2, None), 7, (None, 6, None)),\n",
    "                1,\n",
    "                (None, 9, ((None, 5, None), 9, None)),\n",
    "            )\n",
    "tree_map = TreeMap.parse_tuple(tree_map_tuple)\n",
    "tree_list = tree_map.to_list()\n",
    "result = find_first_occurrence_no_recursion_with_slicing(tree_list, 9)\n",
    "print(result)\n",
    "assert result is not None, \"Node should be found.\"\n",
    "assert result[0] == TreeNode(9, None) and result[1] == 5, \"Result incorrect\"\n",
    "print(\"Tree:\")\n",
    "tree_map.display_keys()\n",
    "print(\"Sorted list of nodes: \\n\", tree_list)\n",
    "print(\"Function executed 100 times in mean time of:\")\n",
    "%timeit [find_first_occurrence_no_recursion_with_slicing(tree_list, 9) for i in range(100)]"
   ]
  },
  {
   "cell_type": "markdown",
   "metadata": {},
   "source": [
    "## Testing"
   ]
  }
 ],
 "metadata": {
  "kernelspec": {
   "display_name": "Python 3.10.6 64-bit",
   "language": "python",
   "name": "python3"
  },
  "language_info": {
   "codemirror_mode": {
    "name": "ipython",
    "version": 3
   },
   "file_extension": ".py",
   "mimetype": "text/x-python",
   "name": "python",
   "nbconvert_exporter": "python",
   "pygments_lexer": "ipython3",
   "version": "3.10.6"
  },
  "orig_nbformat": 4,
  "vscode": {
   "interpreter": {
    "hash": "1b4d5d8c28046b098bf6c58817e24fa10cf26993ce19eb605460d6a4cf12ddf9"
   }
  }
 },
 "nbformat": 4,
 "nbformat_minor": 2
}
